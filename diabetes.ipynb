{
 "cells": [
  {
   "cell_type": "markdown",
   "metadata": {},
   "source": [
    "# Predicting the prevalence of Diabetes from online records using \n",
    "\n",
    "The main goal of this assignment is to set up a machine learning framework that predicts the prevalence of a specific \n",
    "chronic disease or health risk factor from digital records of online behavior.\n",
    "\n"
   ]
  },
  {
   "cell_type": "markdown",
   "metadata": {},
   "source": [
    "## Ground truth data"
   ]
  },
  {
   "cell_type": "markdown",
   "metadata": {},
   "source": [
    "### Downloading the dataset"
   ]
  },
  {
   "cell_type": "code",
   "execution_count": null,
   "metadata": {},
   "outputs": [],
   "source": [
    "https://chronicdata.cdc.gov/resource/5hnu-2c66.json"
   ]
  },
  {
   "cell_type": "code",
   "execution_count": 1,
   "metadata": {},
   "outputs": [
    {
     "name": "stderr",
     "output_type": "stream",
     "text": [
      "C:\\ProgramData\\Anaconda3\\lib\\site-packages\\IPython\\core\\interactiveshell.py:2698: DtypeWarning: Columns (7,10,18,19,20,21,23,30,31,32,33) have mixed types. Specify dtype option on import or set low_memory=False.\n",
      "  interactivity=interactivity, compiler=compiler, result=result)\n"
     ]
    }
   ],
   "source": [
    "import pandas as pd\n",
    "\n",
    "df = pd.read_csv(\"data/U.S._Chronic_Disease_Indicators__CDI_.csv\")"
   ]
  },
  {
   "cell_type": "code",
   "execution_count": 2,
   "metadata": {},
   "outputs": [
    {
     "data": {
      "text/html": [
       "<div>\n",
       "<style>\n",
       "    .dataframe thead tr:only-child th {\n",
       "        text-align: right;\n",
       "    }\n",
       "\n",
       "    .dataframe thead th {\n",
       "        text-align: left;\n",
       "    }\n",
       "\n",
       "    .dataframe tbody tr th {\n",
       "        vertical-align: top;\n",
       "    }\n",
       "</style>\n",
       "<table border=\"1\" class=\"dataframe\">\n",
       "  <thead>\n",
       "    <tr style=\"text-align: right;\">\n",
       "      <th></th>\n",
       "      <th>YearStart</th>\n",
       "      <th>YearEnd</th>\n",
       "      <th>LocationAbbr</th>\n",
       "      <th>LocationDesc</th>\n",
       "      <th>DataSource</th>\n",
       "      <th>Topic</th>\n",
       "      <th>Question</th>\n",
       "      <th>Response</th>\n",
       "      <th>DataValueUnit</th>\n",
       "      <th>DataValueType</th>\n",
       "      <th>...</th>\n",
       "      <th>LocationID</th>\n",
       "      <th>TopicID</th>\n",
       "      <th>QuestionID</th>\n",
       "      <th>DataValueTypeID</th>\n",
       "      <th>StratificationCategoryID1</th>\n",
       "      <th>StratificationID1</th>\n",
       "      <th>StratificationCategoryID2</th>\n",
       "      <th>StratificationID2</th>\n",
       "      <th>StratificationCategoryID3</th>\n",
       "      <th>StratificationID3</th>\n",
       "    </tr>\n",
       "  </thead>\n",
       "  <tbody>\n",
       "    <tr>\n",
       "      <th>0</th>\n",
       "      <td>2015</td>\n",
       "      <td>2015</td>\n",
       "      <td>AK</td>\n",
       "      <td>Alaska</td>\n",
       "      <td>YRBSS</td>\n",
       "      <td>Alcohol</td>\n",
       "      <td>Alcohol use among youth</td>\n",
       "      <td>NaN</td>\n",
       "      <td>%</td>\n",
       "      <td>Crude Prevalence</td>\n",
       "      <td>...</td>\n",
       "      <td>2</td>\n",
       "      <td>ALC</td>\n",
       "      <td>ALC1_1</td>\n",
       "      <td>CrdPrev</td>\n",
       "      <td>OVERALL</td>\n",
       "      <td>OVR</td>\n",
       "      <td>NaN</td>\n",
       "      <td>NaN</td>\n",
       "      <td>NaN</td>\n",
       "      <td>NaN</td>\n",
       "    </tr>\n",
       "    <tr>\n",
       "      <th>1</th>\n",
       "      <td>2015</td>\n",
       "      <td>2015</td>\n",
       "      <td>AL</td>\n",
       "      <td>Alabama</td>\n",
       "      <td>YRBSS</td>\n",
       "      <td>Alcohol</td>\n",
       "      <td>Alcohol use among youth</td>\n",
       "      <td>NaN</td>\n",
       "      <td>%</td>\n",
       "      <td>Crude Prevalence</td>\n",
       "      <td>...</td>\n",
       "      <td>1</td>\n",
       "      <td>ALC</td>\n",
       "      <td>ALC1_1</td>\n",
       "      <td>CrdPrev</td>\n",
       "      <td>OVERALL</td>\n",
       "      <td>OVR</td>\n",
       "      <td>NaN</td>\n",
       "      <td>NaN</td>\n",
       "      <td>NaN</td>\n",
       "      <td>NaN</td>\n",
       "    </tr>\n",
       "    <tr>\n",
       "      <th>2</th>\n",
       "      <td>2015</td>\n",
       "      <td>2015</td>\n",
       "      <td>AR</td>\n",
       "      <td>Arkansas</td>\n",
       "      <td>YRBSS</td>\n",
       "      <td>Alcohol</td>\n",
       "      <td>Alcohol use among youth</td>\n",
       "      <td>NaN</td>\n",
       "      <td>%</td>\n",
       "      <td>Crude Prevalence</td>\n",
       "      <td>...</td>\n",
       "      <td>5</td>\n",
       "      <td>ALC</td>\n",
       "      <td>ALC1_1</td>\n",
       "      <td>CrdPrev</td>\n",
       "      <td>OVERALL</td>\n",
       "      <td>OVR</td>\n",
       "      <td>NaN</td>\n",
       "      <td>NaN</td>\n",
       "      <td>NaN</td>\n",
       "      <td>NaN</td>\n",
       "    </tr>\n",
       "    <tr>\n",
       "      <th>3</th>\n",
       "      <td>2015</td>\n",
       "      <td>2015</td>\n",
       "      <td>AZ</td>\n",
       "      <td>Arizona</td>\n",
       "      <td>YRBSS</td>\n",
       "      <td>Alcohol</td>\n",
       "      <td>Alcohol use among youth</td>\n",
       "      <td>NaN</td>\n",
       "      <td>%</td>\n",
       "      <td>Crude Prevalence</td>\n",
       "      <td>...</td>\n",
       "      <td>4</td>\n",
       "      <td>ALC</td>\n",
       "      <td>ALC1_1</td>\n",
       "      <td>CrdPrev</td>\n",
       "      <td>OVERALL</td>\n",
       "      <td>OVR</td>\n",
       "      <td>NaN</td>\n",
       "      <td>NaN</td>\n",
       "      <td>NaN</td>\n",
       "      <td>NaN</td>\n",
       "    </tr>\n",
       "    <tr>\n",
       "      <th>4</th>\n",
       "      <td>2015</td>\n",
       "      <td>2015</td>\n",
       "      <td>CA</td>\n",
       "      <td>California</td>\n",
       "      <td>YRBSS</td>\n",
       "      <td>Alcohol</td>\n",
       "      <td>Alcohol use among youth</td>\n",
       "      <td>NaN</td>\n",
       "      <td>%</td>\n",
       "      <td>Crude Prevalence</td>\n",
       "      <td>...</td>\n",
       "      <td>6</td>\n",
       "      <td>ALC</td>\n",
       "      <td>ALC1_1</td>\n",
       "      <td>CrdPrev</td>\n",
       "      <td>OVERALL</td>\n",
       "      <td>OVR</td>\n",
       "      <td>NaN</td>\n",
       "      <td>NaN</td>\n",
       "      <td>NaN</td>\n",
       "      <td>NaN</td>\n",
       "    </tr>\n",
       "  </tbody>\n",
       "</table>\n",
       "<p>5 rows × 34 columns</p>\n",
       "</div>"
      ],
      "text/plain": [
       "   YearStart  YearEnd LocationAbbr LocationDesc DataSource    Topic  \\\n",
       "0       2015     2015           AK       Alaska      YRBSS  Alcohol   \n",
       "1       2015     2015           AL      Alabama      YRBSS  Alcohol   \n",
       "2       2015     2015           AR     Arkansas      YRBSS  Alcohol   \n",
       "3       2015     2015           AZ      Arizona      YRBSS  Alcohol   \n",
       "4       2015     2015           CA   California      YRBSS  Alcohol   \n",
       "\n",
       "                  Question Response DataValueUnit     DataValueType  \\\n",
       "0  Alcohol use among youth      NaN             %  Crude Prevalence   \n",
       "1  Alcohol use among youth      NaN             %  Crude Prevalence   \n",
       "2  Alcohol use among youth      NaN             %  Crude Prevalence   \n",
       "3  Alcohol use among youth      NaN             %  Crude Prevalence   \n",
       "4  Alcohol use among youth      NaN             %  Crude Prevalence   \n",
       "\n",
       "         ...        LocationID  TopicID QuestionID DataValueTypeID  \\\n",
       "0        ...                 2      ALC     ALC1_1         CrdPrev   \n",
       "1        ...                 1      ALC     ALC1_1         CrdPrev   \n",
       "2        ...                 5      ALC     ALC1_1         CrdPrev   \n",
       "3        ...                 4      ALC     ALC1_1         CrdPrev   \n",
       "4        ...                 6      ALC     ALC1_1         CrdPrev   \n",
       "\n",
       "   StratificationCategoryID1  StratificationID1 StratificationCategoryID2  \\\n",
       "0                    OVERALL                OVR                       NaN   \n",
       "1                    OVERALL                OVR                       NaN   \n",
       "2                    OVERALL                OVR                       NaN   \n",
       "3                    OVERALL                OVR                       NaN   \n",
       "4                    OVERALL                OVR                       NaN   \n",
       "\n",
       "  StratificationID2 StratificationCategoryID3 StratificationID3  \n",
       "0               NaN                       NaN               NaN  \n",
       "1               NaN                       NaN               NaN  \n",
       "2               NaN                       NaN               NaN  \n",
       "3               NaN                       NaN               NaN  \n",
       "4               NaN                       NaN               NaN  \n",
       "\n",
       "[5 rows x 34 columns]"
      ]
     },
     "execution_count": 2,
     "metadata": {},
     "output_type": "execute_result"
    }
   ],
   "source": [
    "df.head(5)"
   ]
  },
  {
   "cell_type": "code",
   "execution_count": 3,
   "metadata": {},
   "outputs": [
    {
     "data": {
      "text/plain": [
       "['Diabetes',\n",
       " 'Nutrition, Physical Activity, and Weight Status',\n",
       " 'Tobacco',\n",
       " 'Arthritis',\n",
       " 'Reproductive Health',\n",
       " 'Oral Health',\n",
       " 'Asthma',\n",
       " 'Older Adults',\n",
       " 'Immunization',\n",
       " 'Chronic Obstructive Pulmonary Disease',\n",
       " 'Mental Health',\n",
       " 'Disability',\n",
       " 'Alcohol',\n",
       " 'Cardiovascular Disease',\n",
       " 'Overarching Conditions',\n",
       " 'Chronic Kidney Disease',\n",
       " 'Cancer']"
      ]
     },
     "execution_count": 3,
     "metadata": {},
     "output_type": "execute_result"
    }
   ],
   "source": [
    "unique_topics = list(set(df[\"Topic\"]))\n",
    "unique_topics"
   ]
  },
  {
   "cell_type": "code",
   "execution_count": 4,
   "metadata": {},
   "outputs": [],
   "source": [
    "df_diabetes = df[df.Topic==\"Diabetes\"]\n",
    "df_diabetes.to_csv(\"data/US_diabetes.csv\")"
   ]
  },
  {
   "cell_type": "code",
   "execution_count": 5,
   "metadata": {},
   "outputs": [
    {
     "data": {
      "text/plain": [
       "{'BRFSS', 'Birth Certificate, NVSS', 'NVSS', 'PRAMS', 'State Inpatient Data'}"
      ]
     },
     "execution_count": 5,
     "metadata": {},
     "output_type": "execute_result"
    }
   ],
   "source": [
    "set(df_diabetes.DataSource)"
   ]
  },
  {
   "cell_type": "markdown",
   "metadata": {},
   "source": [
    "### Type of questions with prevalence in name"
   ]
  },
  {
   "cell_type": "code",
   "execution_count": 6,
   "metadata": {},
   "outputs": [
    {
     "data": {
      "text/plain": [
       "{0: 'Adults with diagnosed diabetes aged >= 18 years who have taken a diabetes self-management course',\n",
       " 1: 'Amputation of a lower extremity attributable to diabetes',\n",
       " 2: 'Diabetes prevalence among women aged 18-44 years',\n",
       " 3: 'Dilated eye examination among adults aged >= 18 years with diagnosed diabetes',\n",
       " 4: 'Foot examination among adults aged >= 18 years with diagnosed diabetes',\n",
       " 5: 'Glycosylated hemoglobin measurement among adults aged >= 18 years with diagnosed diabetes',\n",
       " 6: 'Hospitalization with diabetes as a listed diagnosis',\n",
       " 7: 'Influenza vaccination among noninstitutionalized adults aged 18-64 years with diagnosed diabetes',\n",
       " 8: 'Influenza vaccination among noninstitutionalized adults aged >= 65 years with diagnosed diabetes',\n",
       " 9: 'Mortality due to diabetes reported as any listed cause of death',\n",
       " 10: 'Mortality with diabetic ketoacidosis reported as any listed cause of death',\n",
       " 11: 'Pneumococcal vaccination among noninstitutionalized adults aged 18-64 years with diagnosed diabetes',\n",
       " 12: 'Pneumococcal vaccination among noninstitutionalized adults aged >= 65 years with diagnosed diabetes',\n",
       " 13: 'Prevalence of depressive disorders among adults aged >= 18 years with diagnosed diabetes',\n",
       " 14: 'Prevalence of diagnosed diabetes among adults aged >= 18 years',\n",
       " 15: 'Prevalence of gestational diabetes',\n",
       " 16: 'Prevalence of high blood pressure among adults aged >= 18 years with diagnosed diabetes',\n",
       " 17: 'Prevalence of high cholesterol among adults aged >= 18 years with diagnosed diabetes',\n",
       " 18: 'Prevalence of pre-pregnancy diabetes',\n",
       " 19: 'Visits to dentist or dental clinic among adults aged >= 18 years with diagnosed diabetes'}"
      ]
     },
     "execution_count": 6,
     "metadata": {},
     "output_type": "execute_result"
    }
   ],
   "source": [
    "questions = dict(enumerate(sorted(list(set(df_diabetes.Question)))))\n",
    "questions"
   ]
  },
  {
   "cell_type": "markdown",
   "metadata": {},
   "source": [
    "## Type of Data Values\n"
   ]
  },
  {
   "cell_type": "code",
   "execution_count": 7,
   "metadata": {},
   "outputs": [
    {
     "data": {
      "text/plain": [
       "{'Age-adjusted Prevalence',\n",
       " 'Age-adjusted Rate',\n",
       " 'Crude Prevalence',\n",
       " 'Crude Rate',\n",
       " 'Number',\n",
       " 'Prevalence'}"
      ]
     },
     "execution_count": 7,
     "metadata": {},
     "output_type": "execute_result"
    }
   ],
   "source": [
    "data_values = set(df_diabetes.DataValueType)\n",
    "data_values"
   ]
  },
  {
   "cell_type": "code",
   "execution_count": 38,
   "metadata": {},
   "outputs": [
    {
     "data": {
      "text/html": [
       "<div>\n",
       "<style>\n",
       "    .dataframe thead tr:only-child th {\n",
       "        text-align: right;\n",
       "    }\n",
       "\n",
       "    .dataframe thead th {\n",
       "        text-align: left;\n",
       "    }\n",
       "\n",
       "    .dataframe tbody tr th {\n",
       "        vertical-align: top;\n",
       "    }\n",
       "</style>\n",
       "<table border=\"1\" class=\"dataframe\">\n",
       "  <thead>\n",
       "    <tr style=\"text-align: right;\">\n",
       "      <th></th>\n",
       "      <th>YearStart</th>\n",
       "      <th>YearEnd</th>\n",
       "      <th>LocationAbbr</th>\n",
       "      <th>LocationDesc</th>\n",
       "      <th>DataSource</th>\n",
       "      <th>Topic</th>\n",
       "      <th>Question</th>\n",
       "      <th>Response</th>\n",
       "      <th>DataValueUnit</th>\n",
       "      <th>DataValueType</th>\n",
       "      <th>...</th>\n",
       "      <th>LocationID</th>\n",
       "      <th>TopicID</th>\n",
       "      <th>QuestionID</th>\n",
       "      <th>DataValueTypeID</th>\n",
       "      <th>StratificationCategoryID1</th>\n",
       "      <th>StratificationID1</th>\n",
       "      <th>StratificationCategoryID2</th>\n",
       "      <th>StratificationID2</th>\n",
       "      <th>StratificationCategoryID3</th>\n",
       "      <th>StratificationID3</th>\n",
       "    </tr>\n",
       "  </thead>\n",
       "  <tbody>\n",
       "    <tr>\n",
       "      <th>329821</th>\n",
       "      <td>2013</td>\n",
       "      <td>2013</td>\n",
       "      <td>WY</td>\n",
       "      <td>Wyoming</td>\n",
       "      <td>BRFSS</td>\n",
       "      <td>Diabetes</td>\n",
       "      <td>Prevalence of diagnosed diabetes among adults ...</td>\n",
       "      <td>NaN</td>\n",
       "      <td>%</td>\n",
       "      <td>Age-adjusted Prevalence</td>\n",
       "      <td>...</td>\n",
       "      <td>56</td>\n",
       "      <td>DIA</td>\n",
       "      <td>DIA2_1</td>\n",
       "      <td>AgeAdjPrev</td>\n",
       "      <td>OVERALL</td>\n",
       "      <td>OVR</td>\n",
       "      <td>NaN</td>\n",
       "      <td>NaN</td>\n",
       "      <td>NaN</td>\n",
       "      <td>NaN</td>\n",
       "    </tr>\n",
       "  </tbody>\n",
       "</table>\n",
       "<p>1 rows × 34 columns</p>\n",
       "</div>"
      ],
      "text/plain": [
       "        YearStart  YearEnd LocationAbbr LocationDesc DataSource     Topic  \\\n",
       "329821       2013     2013           WY      Wyoming      BRFSS  Diabetes   \n",
       "\n",
       "                                                 Question Response  \\\n",
       "329821  Prevalence of diagnosed diabetes among adults ...      NaN   \n",
       "\n",
       "       DataValueUnit            DataValueType        ...        LocationID  \\\n",
       "329821             %  Age-adjusted Prevalence        ...                56   \n",
       "\n",
       "        TopicID QuestionID DataValueTypeID  StratificationCategoryID1  \\\n",
       "329821      DIA     DIA2_1      AgeAdjPrev                    OVERALL   \n",
       "\n",
       "        StratificationID1 StratificationCategoryID2 StratificationID2  \\\n",
       "329821                OVR                       NaN               NaN   \n",
       "\n",
       "       StratificationCategoryID3 StratificationID3  \n",
       "329821                       NaN               NaN  \n",
       "\n",
       "[1 rows x 34 columns]"
      ]
     },
     "execution_count": 38,
     "metadata": {},
     "output_type": "execute_result"
    }
   ],
   "source": [
    "df_diabetes[(df_diabetes.LocationDesc == \"Wyoming\")&(df_diabetes.StratificationCategory1 == \"Overall\")&(df_diabetes.YearStart == 2013)&(df_diabetes.DataValueType == \"Age-adjusted Prevalence\")&(df_diabetes.Question == questions[14])]"
   ]
  },
  {
   "cell_type": "code",
   "execution_count": 31,
   "metadata": {},
   "outputs": [
    {
     "data": {
      "text/plain": [
       "{2010, 2011, 2012, 2013, 2014, 2015}"
      ]
     },
     "execution_count": 31,
     "metadata": {},
     "output_type": "execute_result"
    }
   ],
   "source": [
    "set(df_diabetes[(df_diabetes.YearStart == df_diabetes.YearEnd)].YearStart)\n",
    "# (df_diabetes.LocationAbbr == 'US')&"
   ]
  },
  {
   "cell_type": "code",
   "execution_count": 15,
   "metadata": {},
   "outputs": [],
   "source": [
    "def get_prevalence_indicator(df, state, category, year, data_value, question):\n",
    "    return float(df[\n",
    "        (df.LocationAbbr == state) & \\\n",
    "        (df.StratificationCategory1 == category) & \\\n",
    "        (df.YearStart == year) & \\\n",
    "        (df.DataValueType == data_value) & \\\n",
    "        (df.Question == question )\n",
    "    ][\"DataValue\"].values[0])"
   ]
  },
  {
   "cell_type": "code",
   "execution_count": 28,
   "metadata": {},
   "outputs": [
    {
     "data": {
      "text/plain": [
       "9.1"
      ]
     },
     "execution_count": 28,
     "metadata": {},
     "output_type": "execute_result"
    }
   ],
   "source": [
    "get_prevalence_indicator(df=df_diabetes,\n",
    "                         state=\"US\",\n",
    "                         category=\"Overall\",\n",
    "                         year=2014,\n",
    "                         data_value= \"Age-adjusted Prevalence\",#\"Crude Prevalence\",\n",
    "                         question = questions[14]                        \n",
    "                        )"
   ]
  },
  {
   "cell_type": "code",
   "execution_count": 26,
   "metadata": {},
   "outputs": [
    {
     "data": {
      "text/plain": [
       "{2009, 2010, 2011, 2012, 2013, 2014, 2015}"
      ]
     },
     "execution_count": 26,
     "metadata": {},
     "output_type": "execute_result"
    }
   ],
   "source": [
    "set(df_diabetes.YearStart)"
   ]
  },
  {
   "cell_type": "markdown",
   "metadata": {},
   "source": [
    "### Google Trends\n",
    "\n",
    "Command to install the necessary package\n",
    "###### pip install pytrends "
   ]
  },
  {
   "cell_type": "code",
   "execution_count": 34,
   "metadata": {},
   "outputs": [],
   "source": [
    "from pytrends.request import TrendReq"
   ]
  },
  {
   "cell_type": "code",
   "execution_count": 35,
   "metadata": {},
   "outputs": [],
   "source": [
    "pytrend = TrendReq(hl='en-US', tz=360)"
   ]
  },
  {
   "cell_type": "code",
   "execution_count": 36,
   "metadata": {},
   "outputs": [],
   "source": [
    "key_list = {\"1\": [\"diabetes\", \"sugar\", \"glucose\", \"insulin\", \"diagnosis\"], \n",
    "            \"2\": [\"blood pressure\", \"fruit\", \"cholesterol\", \"diet\", \"type 1\"],\n",
    "            \"3\": [\"type 2\", \"symptoms\", \"diabetes mellitus\", \"diagnosis\", \"complications\"],\n",
    "            \"4\": [\"osteoporosis\", \"hypertension\",\"obesity\", \"fat\", \"association\"]\n",
    "           }"
   ]
  },
  {
   "cell_type": "code",
   "execution_count": 37,
   "metadata": {},
   "outputs": [],
   "source": [
    "d_s = '-01-01 '\n",
    "d_e = '-12-31'\n",
    "for i in range(2009,2016):\n",
    "    period = str(i) + d_s + str(i) + d_e\n",
    "    for key in key_list:\n",
    "        pytrend.build_payload(kw_list=key_list[key], geo=\"US\", cat = 630, \\\n",
    "                      timeframe= period)\n",
    "        if key == \"1\":\n",
    "            interest_by_region_df = pytrend.interest_by_region()\n",
    "        else:\n",
    "             interest_by_region_df = pd.concat([interest_by_region_df, pytrend.interest_by_region()], axis = 1)\n",
    "    file = str(i) + \".csv\"\n",
    "    interest_by_region_df.to_csv(file, sep = ',')"
   ]
  },
  {
   "cell_type": "code",
   "execution_count": null,
   "metadata": {},
   "outputs": [],
   "source": []
  },
  {
   "cell_type": "code",
   "execution_count": null,
   "metadata": {},
   "outputs": [],
   "source": []
  },
  {
   "cell_type": "code",
   "execution_count": null,
   "metadata": {},
   "outputs": [],
   "source": []
  },
  {
   "cell_type": "markdown",
   "metadata": {},
   "source": [
    "## Poverty Data"
   ]
  },
  {
   "cell_type": "code",
   "execution_count": 32,
   "metadata": {},
   "outputs": [],
   "source": [
    "df_poverty = pd.read_excel(\"data_poverty/dat_p.xls\")"
   ]
  },
  {
   "cell_type": "code",
   "execution_count": 33,
   "metadata": {},
   "outputs": [
    {
     "data": {
      "text/html": [
       "<div>\n",
       "<style>\n",
       "    .dataframe thead tr:only-child th {\n",
       "        text-align: right;\n",
       "    }\n",
       "\n",
       "    .dataframe thead th {\n",
       "        text-align: left;\n",
       "    }\n",
       "\n",
       "    .dataframe tbody tr th {\n",
       "        vertical-align: top;\n",
       "    }\n",
       "</style>\n",
       "<table border=\"1\" class=\"dataframe\">\n",
       "  <thead>\n",
       "    <tr style=\"text-align: right;\">\n",
       "      <th></th>\n",
       "      <th>STATE</th>\n",
       "      <th>Total.15</th>\n",
       "      <th>Number.15</th>\n",
       "      <th>Standard\n",
       "error.15</th>\n",
       "      <th>Percent.15</th>\n",
       "      <th>Standard\n",
       "error.15.1</th>\n",
       "      <th>Total.14</th>\n",
       "      <th>Number.14</th>\n",
       "      <th>Standard\n",
       "error.14</th>\n",
       "      <th>Percent.14</th>\n",
       "      <th>...</th>\n",
       "      <th>Total.10</th>\n",
       "      <th>Number.10</th>\n",
       "      <th>Standard\n",
       "error.10</th>\n",
       "      <th>Percent.10</th>\n",
       "      <th>Standard\n",
       "error.10.1</th>\n",
       "      <th>Total.9</th>\n",
       "      <th>Number.9</th>\n",
       "      <th>Standard\n",
       "error.9</th>\n",
       "      <th>Percent.9</th>\n",
       "      <th>Standard\n",
       "error.9.1</th>\n",
       "    </tr>\n",
       "  </thead>\n",
       "  <tbody>\n",
       "    <tr>\n",
       "      <th>0</th>\n",
       "      <td>Alabama</td>\n",
       "      <td>4820</td>\n",
       "      <td>784</td>\n",
       "      <td>60</td>\n",
       "      <td>16.3</td>\n",
       "      <td>1.2</td>\n",
       "      <td>4765</td>\n",
       "      <td>848</td>\n",
       "      <td>53</td>\n",
       "      <td>17.8</td>\n",
       "      <td>...</td>\n",
       "      <td>4717</td>\n",
       "      <td>812</td>\n",
       "      <td>83</td>\n",
       "      <td>17.2</td>\n",
       "      <td>1.8</td>\n",
       "      <td>4655</td>\n",
       "      <td>770</td>\n",
       "      <td>60</td>\n",
       "      <td>16.6</td>\n",
       "      <td>1.3</td>\n",
       "    </tr>\n",
       "    <tr>\n",
       "      <th>1</th>\n",
       "      <td>Alaska</td>\n",
       "      <td>703</td>\n",
       "      <td>65</td>\n",
       "      <td>6</td>\n",
       "      <td>9.2</td>\n",
       "      <td>0.9</td>\n",
       "      <td>694</td>\n",
       "      <td>82</td>\n",
       "      <td>8</td>\n",
       "      <td>11.9</td>\n",
       "      <td>...</td>\n",
       "      <td>695</td>\n",
       "      <td>87</td>\n",
       "      <td>10</td>\n",
       "      <td>12.5</td>\n",
       "      <td>1.5</td>\n",
       "      <td>688</td>\n",
       "      <td>81</td>\n",
       "      <td>8</td>\n",
       "      <td>11.7</td>\n",
       "      <td>1.2</td>\n",
       "    </tr>\n",
       "    <tr>\n",
       "      <th>2</th>\n",
       "      <td>Arizona</td>\n",
       "      <td>6728</td>\n",
       "      <td>1156</td>\n",
       "      <td>84</td>\n",
       "      <td>17.2</td>\n",
       "      <td>1.3</td>\n",
       "      <td>6657</td>\n",
       "      <td>1409</td>\n",
       "      <td>76</td>\n",
       "      <td>21.2</td>\n",
       "      <td>...</td>\n",
       "      <td>6426</td>\n",
       "      <td>1208</td>\n",
       "      <td>108</td>\n",
       "      <td>18.8</td>\n",
       "      <td>1.7</td>\n",
       "      <td>6508</td>\n",
       "      <td>1381</td>\n",
       "      <td>84</td>\n",
       "      <td>21.2</td>\n",
       "      <td>1.3</td>\n",
       "    </tr>\n",
       "    <tr>\n",
       "      <th>3</th>\n",
       "      <td>Arkansas</td>\n",
       "      <td>2951</td>\n",
       "      <td>475</td>\n",
       "      <td>27</td>\n",
       "      <td>16.1</td>\n",
       "      <td>0.9</td>\n",
       "      <td>2891</td>\n",
       "      <td>532</td>\n",
       "      <td>44</td>\n",
       "      <td>18.4</td>\n",
       "      <td>...</td>\n",
       "      <td>2879</td>\n",
       "      <td>440</td>\n",
       "      <td>45</td>\n",
       "      <td>15.3</td>\n",
       "      <td>1.6</td>\n",
       "      <td>2846</td>\n",
       "      <td>538</td>\n",
       "      <td>40</td>\n",
       "      <td>18.9</td>\n",
       "      <td>1.4</td>\n",
       "    </tr>\n",
       "    <tr>\n",
       "      <th>4</th>\n",
       "      <td>California</td>\n",
       "      <td>39081</td>\n",
       "      <td>5441</td>\n",
       "      <td>211</td>\n",
       "      <td>13.9</td>\n",
       "      <td>0.5</td>\n",
       "      <td>38666</td>\n",
       "      <td>6112</td>\n",
       "      <td>218</td>\n",
       "      <td>15.8</td>\n",
       "      <td>...</td>\n",
       "      <td>37240</td>\n",
       "      <td>6073</td>\n",
       "      <td>212</td>\n",
       "      <td>16.3</td>\n",
       "      <td>0.6</td>\n",
       "      <td>36742</td>\n",
       "      <td>5638</td>\n",
       "      <td>177</td>\n",
       "      <td>15.3</td>\n",
       "      <td>0.5</td>\n",
       "    </tr>\n",
       "  </tbody>\n",
       "</table>\n",
       "<p>5 rows × 36 columns</p>\n",
       "</div>"
      ],
      "text/plain": [
       "        STATE  Total.15  Number.15  Standard\\nerror.15  Percent.15  \\\n",
       "0     Alabama      4820        784                  60        16.3   \n",
       "1      Alaska       703         65                   6         9.2   \n",
       "2     Arizona      6728       1156                  84        17.2   \n",
       "3    Arkansas      2951        475                  27        16.1   \n",
       "4  California     39081       5441                 211        13.9   \n",
       "\n",
       "   Standard\\nerror.15.1  Total.14  Number.14  Standard\\nerror.14  Percent.14  \\\n",
       "0                   1.2      4765        848                  53        17.8   \n",
       "1                   0.9       694         82                   8        11.9   \n",
       "2                   1.3      6657       1409                  76        21.2   \n",
       "3                   0.9      2891        532                  44        18.4   \n",
       "4                   0.5     38666       6112                 218        15.8   \n",
       "\n",
       "          ...           Total.10  Number.10  Standard\\nerror.10  Percent.10  \\\n",
       "0         ...               4717        812                  83        17.2   \n",
       "1         ...                695         87                  10        12.5   \n",
       "2         ...               6426       1208                 108        18.8   \n",
       "3         ...               2879        440                  45        15.3   \n",
       "4         ...              37240       6073                 212        16.3   \n",
       "\n",
       "   Standard\\nerror.10.1  Total.9  Number.9  Standard\\nerror.9  Percent.9  \\\n",
       "0                   1.8     4655       770                 60       16.6   \n",
       "1                   1.5      688        81                  8       11.7   \n",
       "2                   1.7     6508      1381                 84       21.2   \n",
       "3                   1.6     2846       538                 40       18.9   \n",
       "4                   0.6    36742      5638                177       15.3   \n",
       "\n",
       "   Standard\\nerror.9.1  \n",
       "0                  1.3  \n",
       "1                  1.2  \n",
       "2                  1.3  \n",
       "3                  1.4  \n",
       "4                  0.5  \n",
       "\n",
       "[5 rows x 36 columns]"
      ]
     },
     "execution_count": 33,
     "metadata": {},
     "output_type": "execute_result"
    }
   ],
   "source": [
    "df_poverty.head(5)"
   ]
  },
  {
   "cell_type": "code",
   "execution_count": null,
   "metadata": {},
   "outputs": [],
   "source": []
  },
  {
   "cell_type": "code",
   "execution_count": null,
   "metadata": {},
   "outputs": [],
   "source": []
  },
  {
   "cell_type": "code",
   "execution_count": null,
   "metadata": {},
   "outputs": [],
   "source": []
  },
  {
   "cell_type": "code",
   "execution_count": 40,
   "metadata": {},
   "outputs": [],
   "source": [
    "locations = set(df_diabetes[df_diabetes.LocationAbbr != \"US\"].LocationAbbr)"
   ]
  },
  {
   "cell_type": "code",
   "execution_count": 41,
   "metadata": {},
   "outputs": [
    {
     "data": {
      "text/plain": [
       "{'AK',\n",
       " 'AL',\n",
       " 'AR',\n",
       " 'AZ',\n",
       " 'CA',\n",
       " 'CO',\n",
       " 'CT',\n",
       " 'DC',\n",
       " 'DE',\n",
       " 'FL',\n",
       " 'GA',\n",
       " 'GU',\n",
       " 'HI',\n",
       " 'IA',\n",
       " 'ID',\n",
       " 'IL',\n",
       " 'IN',\n",
       " 'KS',\n",
       " 'KY',\n",
       " 'LA',\n",
       " 'MA',\n",
       " 'MD',\n",
       " 'ME',\n",
       " 'MI',\n",
       " 'MN',\n",
       " 'MO',\n",
       " 'MS',\n",
       " 'MT',\n",
       " 'NC',\n",
       " 'ND',\n",
       " 'NE',\n",
       " 'NH',\n",
       " 'NJ',\n",
       " 'NM',\n",
       " 'NV',\n",
       " 'NY',\n",
       " 'OH',\n",
       " 'OK',\n",
       " 'OR',\n",
       " 'PA',\n",
       " 'PR',\n",
       " 'RI',\n",
       " 'SC',\n",
       " 'SD',\n",
       " 'TN',\n",
       " 'TX',\n",
       " 'UT',\n",
       " 'VA',\n",
       " 'VI',\n",
       " 'VT',\n",
       " 'WA',\n",
       " 'WI',\n",
       " 'WV',\n",
       " 'WY'}"
      ]
     },
     "execution_count": 41,
     "metadata": {},
     "output_type": "execute_result"
    }
   ],
   "source": [
    "locations"
   ]
  },
  {
   "cell_type": "code",
   "execution_count": null,
   "metadata": {},
   "outputs": [],
   "source": []
  }
 ],
 "metadata": {
  "kernelspec": {
   "display_name": "Python 3",
   "language": "python",
   "name": "python3"
  },
  "language_info": {
   "codemirror_mode": {
    "name": "ipython",
    "version": 3
   },
   "file_extension": ".py",
   "mimetype": "text/x-python",
   "name": "python",
   "nbconvert_exporter": "python",
   "pygments_lexer": "ipython3",
   "version": "3.6.3"
  }
 },
 "nbformat": 4,
 "nbformat_minor": 2
}
