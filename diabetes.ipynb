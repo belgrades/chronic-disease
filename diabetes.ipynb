{
 "cells": [
  {
   "cell_type": "markdown",
   "metadata": {},
   "source": [
    "# Predicting the prevalence of Diabetes using Google Trends online data.\n",
    "\n",
    "The main goal of this assignment is to set up a machine learning framework that predicts the prevalence of a specific chronic disease (diabetes) from digital records of online behavior (Google Trends).\n",
    "\n",
    "## Students\n",
    "\n",
    "1. Giulia Rinaldi\n",
    "1. Fernando Crema\n",
    "\n",
    "## Brief explanation of the disease\n",
    "\n",
    "According to [The Center for Disease Control and Prevention](https://www.cdc.gov/diabetes/basics/index.html) diabetes is a chronic (long-lasting) disease that affects how your body turns food into energy.\n",
    "\n",
    "There are three main types of diabetes:\n",
    "\n",
    "1. **Type 1:** Results from the pancreas's failure to produce enough insulin.\n",
    "1. **Type 2:** Begins with insulin resistance, a condition in which cells fail to respond to insulin properly.\n",
    "1. **Gestational diabetes:** Occurs when pregnant women without a previous history of diabetes develop high blood sugar levels. \n",
    "\n",
    "More than 100 million Americans are living with diabetes (30.3 million) or prediabetes (84.1 million).\n",
    "\n",
    "### Why diabetes?\n",
    "\n",
    "Multiple articles such as [Sugar, real heart disease killer](http://www.dailymail.co.uk/health/article-2574269/Sugar-not-fat-real-heart-disease-killer-We-got-wrong-diet-advice-claims-expert.html), [The Sugar Conspiracy](https://www.theguardian.com/society/2016/apr/07/the-sugar-conspiracy-robert-lustig-john-yudkin) and [is fat killing you... or is sugar?](https://www.newyorker.com/magazine/2017/04/03/is-fat-killing-you-or-is-sugar) exploit the issue of sugar consumption in modern society. Despite what normal assuptiom tell us, it seems that the major influence of what are so called \"the XXI century diseases\" is sugar. Giving the major importance of this topic seems clear that if we focus our analysis into a sugar-related disease as diabetes we would have, at least, a lot of results in the online part of our investigation.\n",
    "\n",
    "## Focus of this project using past work\n",
    "\n",
    "We can find important information to our work in several articles. From now on, some of our decisions will be taken into account this projects.\n",
    "\n",
    "[1] [Detecting influenza epidemics using search engine query data](https://www.nature.com/articles/nature07634.pdf) also found in [Link 2](https://static.googleusercontent.com/media/research.google.com/en//archive/papers/detecting-influenza-epidemics.pdf).\n",
    "\n",
    "[2] [Composite leading search index: a preprocessing method of internet search data for stock trends prediction](https://link.springer.com/article/10.1007/s10479-014-1779-z).\n",
    "\n",
    "[3] [A Preprocessing Method of Internet Search Data for Prediction Improvement: Application to Chinese Stock Market](https://www.ecb.europa.eu/events/pdf/conferences/140407/Yuan_APreprocessingMethodOfInternetSearchDataForPredictionImprovement.pdf?3f0ada5a691d67f6febf534056cdc126).\n",
    "\n",
    "[4] [Monitoring Influenza Epidemics in China with Search Query from Baidu](http://journals.plos.org/plosone/article?id=10.1371/journal.pone.0064323).\n",
    "\n",
    "### Brief explanation of past works\n",
    "\n",
    "In works [1] and [4] the focus of both projects is to detect influenza epidemics using search query data (using either Google or Baidu). In the case of [1] the importance of the report, according to the authors, is because the early detection of influenza activity, when followed by a rapid response, can reduce the impact of both seasonal and pandemic influenza. As a result, they say that a way to improve early detection is to monitor health-seeking behaviour in the form of queries to online search engines. Furthermore, in [4] they make special emphasis in the type of data they need in order to have successful results: \"The search query data for each keyword should be represented as a sequential time series with a daily, weekly or monthly resolution\". Finally, they state that studies using web search query data have achieved good results in empirical practice.\n",
    "\n",
    "Works [2] and [3] are used in work [4] to build the regression model they call **Composite Search Index** and is more or less replicated in the present work\n",
    "\n",
    "### Possible limitations of our work\n",
    "\n",
    "1. **(Sample Size):** Unfortunately, we will use data that is temporally aggregated in the **yearly** scale because the data we want to predict found in [the database of the US Center for Disease Control and Prevention](https://www.cdc.gov/brfss/brfssprevalence/index.html) and therefore we will analyze from 2004 to 2016, meaning that we have 13 data points at most.\n",
    "1. **(Epidemic vs Chronic disease):** One of the major reasons behind the usage of search query data predicting works [1] and [4] is because of the fact that influenza is an **epidemic** type of disease. This means that it can be transmitted. The normal reaction of people is to understand either symptoms, treatment, diagnosis, among others looking for information on internet. We could say that this behaviour should be the same for any other type of diseases. However, is not true as the engagement of people using the platform is directly proportional to the impact of the disease in a given time. Therefore, is easier to see the influence of an epidemic disease as the number of sick people increases rapidly given an epidemic of it. Conversely, later on we will see how the prevalence of diabetes increases over time with a predictable pattern either in Google Trend data or in the so called ground truth data.\n",
    "1. **(Google Trend data):** In projects [1] and [4] they use **absolute** values of queries (or sampling estimates) to calculate the correlation between the real value (influenza) and the this values. In our case, the Google Trend data represents a normalized estimate from 0 to 100 ( This values can reach 100 in some years of our data) that represents the \"importance\" of the query term in a given period of time. Therefore, we don't have the real value but an estimated of importance that Google doesn't explain in detail. \n",
    "\n",
    "## How this work is structured:\n",
    "\n",
    "1. Downloading data:\n",
    "    - Ground Truth Data.\n",
    "    - Google Trends data:\n",
    "        * Keyword selection.\n",
    "        * Keyword filtering.\n",
    "        * Downloading the data.\n",
    "    - Data on income and poverty.\n",
    "1. Correlation study:\n",
    "    - Correlation between the ground truth data and Google Trends data.\n",
    "    - Correlation between the ground truth data dn the income-poverty data.\n",
    "1. Prediction model:\n",
    "    - Predicting the ground truth data based on Google Trends data.\n",
    "        * Discussing keyword selection.\n",
    "        * Model selection using temporal and spatial cross-validation.\n",
    "        * Generalizability across states and years.\n",
    "    - Predicting the ground truth data based on Google Trends data and income-poverty data.\n",
    "    - Predicting the ground truth data based on Google Trends data, income-poverty data and insurance data."
   ]
  },
  {
   "cell_type": "markdown",
   "metadata": {},
   "source": [
    "## Ground truth data"
   ]
  },
  {
   "cell_type": "markdown",
   "metadata": {},
   "source": [
    "### Behavioral Risk Factor Surveillance System\n",
    "\n",
    "It's possible to download the data from different sources:\n",
    "\n",
    "1. From [Diabetes Data](https://gis.cdc.gov/grasp/diabetes/DiabetesAtlas.html) we can find an interactive way with graphs and aggregations by Total, Age, Gender and Education. However, is not consistent with the data found in 2.\n",
    "1. From "
   ]
  },
  {
   "cell_type": "code",
   "execution_count": 20,
   "metadata": {},
   "outputs": [],
   "source": [
    "%matplotlib inline"
   ]
  },
  {
   "cell_type": "code",
   "execution_count": 53,
   "metadata": {},
   "outputs": [],
   "source": [
    "years = pd.date_range(start='31/12/2004', end=\"31/12/2016\", freq=\"365D\")"
   ]
  },
  {
   "cell_type": "code",
   "execution_count": 58,
   "metadata": {},
   "outputs": [
    {
     "name": "stdout",
     "output_type": "stream",
     "text": [
      "Filename: data/crude_prevalence_2004.csv\n",
      "Filename: data/crude_prevalence_2005.csv\n",
      "Filename: data/crude_prevalence_2006.csv\n",
      "Filename: data/crude_prevalence_2007.csv\n",
      "Filename: data/crude_prevalence_2008.csv\n",
      "Filename: data/crude_prevalence_2009.csv\n",
      "Filename: data/crude_prevalence_2010.csv\n",
      "Filename: data/crude_prevalence_2011.csv\n",
      "Filename: data/crude_prevalence_2012.csv\n",
      "Filename: data/crude_prevalence_2013.csv\n",
      "Filename: data/crude_prevalence_2014.csv\n",
      "Filename: data/crude_prevalence_2015.csv\n",
      "Filename: data/crude_prevalence_2016.csv\n"
     ]
    },
    {
     "data": {
      "text/html": [
       "<div>\n",
       "<style>\n",
       "    .dataframe thead tr:only-child th {\n",
       "        text-align: right;\n",
       "    }\n",
       "\n",
       "    .dataframe thead th {\n",
       "        text-align: left;\n",
       "    }\n",
       "\n",
       "    .dataframe tbody tr th {\n",
       "        vertical-align: top;\n",
       "    }\n",
       "</style>\n",
       "<table border=\"1\" class=\"dataframe\">\n",
       "  <thead>\n",
       "    <tr style=\"text-align: right;\">\n",
       "      <th></th>\n",
       "      <th>Year</th>\n",
       "      <th>LocationAbbr</th>\n",
       "      <th>LocationDesc</th>\n",
       "      <th>Indicator</th>\n",
       "      <th>Data_Value</th>\n",
       "      <th>Low_Confidence_Limit</th>\n",
       "      <th>High_Confidence_Limit</th>\n",
       "      <th>Sample_Size</th>\n",
       "    </tr>\n",
       "  </thead>\n",
       "  <tbody>\n",
       "    <tr>\n",
       "      <th>0</th>\n",
       "      <td>2004</td>\n",
       "      <td>US</td>\n",
       "      <td>All States, DC and Territories (median) **</td>\n",
       "      <td>Have you ever been told by a doctor that you h...</td>\n",
       "      <td>7.1</td>\n",
       "      <td>NaN</td>\n",
       "      <td>NaN</td>\n",
       "      <td>52</td>\n",
       "    </tr>\n",
       "    <tr>\n",
       "      <th>1</th>\n",
       "      <td>2004</td>\n",
       "      <td>UW</td>\n",
       "      <td>All States and DC (median) **</td>\n",
       "      <td>Have you ever been told by a doctor that you h...</td>\n",
       "      <td>7.0</td>\n",
       "      <td>NaN</td>\n",
       "      <td>NaN</td>\n",
       "      <td>50</td>\n",
       "    </tr>\n",
       "    <tr>\n",
       "      <th>2</th>\n",
       "      <td>2004</td>\n",
       "      <td>AL</td>\n",
       "      <td>Alabama</td>\n",
       "      <td>Have you ever been told by a doctor that you h...</td>\n",
       "      <td>8.1</td>\n",
       "      <td>7.2</td>\n",
       "      <td>9.0</td>\n",
       "      <td>362</td>\n",
       "    </tr>\n",
       "    <tr>\n",
       "      <th>3</th>\n",
       "      <td>2004</td>\n",
       "      <td>AK</td>\n",
       "      <td>Alaska</td>\n",
       "      <td>Have you ever been told by a doctor that you h...</td>\n",
       "      <td>4.2</td>\n",
       "      <td>3.2</td>\n",
       "      <td>5.2</td>\n",
       "      <td>128</td>\n",
       "    </tr>\n",
       "    <tr>\n",
       "      <th>4</th>\n",
       "      <td>2004</td>\n",
       "      <td>AZ</td>\n",
       "      <td>Arizona</td>\n",
       "      <td>Have you ever been told by a doctor that you h...</td>\n",
       "      <td>6.6</td>\n",
       "      <td>5.5</td>\n",
       "      <td>7.7</td>\n",
       "      <td>391</td>\n",
       "    </tr>\n",
       "  </tbody>\n",
       "</table>\n",
       "</div>"
      ],
      "text/plain": [
       "   Year LocationAbbr                                LocationDesc  \\\n",
       "0  2004           US  All States, DC and Territories (median) **   \n",
       "1  2004           UW               All States and DC (median) **   \n",
       "2  2004           AL                                     Alabama   \n",
       "3  2004           AK                                      Alaska   \n",
       "4  2004           AZ                                     Arizona   \n",
       "\n",
       "                                           Indicator  Data_Value  \\\n",
       "0  Have you ever been told by a doctor that you h...         7.1   \n",
       "1  Have you ever been told by a doctor that you h...         7.0   \n",
       "2  Have you ever been told by a doctor that you h...         8.1   \n",
       "3  Have you ever been told by a doctor that you h...         4.2   \n",
       "4  Have you ever been told by a doctor that you h...         6.6   \n",
       "\n",
       "   Low_Confidence_Limit  High_Confidence_Limit  Sample_Size  \n",
       "0                   NaN                    NaN           52  \n",
       "1                   NaN                    NaN           50  \n",
       "2                   7.2                    9.0          362  \n",
       "3                   3.2                    5.2          128  \n",
       "4                   5.5                    7.7          391  "
      ]
     },
     "execution_count": 58,
     "metadata": {},
     "output_type": "execute_result"
    }
   ],
   "source": [
    "import pandas as pd\n",
    "import matplotlib.pyplot as plt\n",
    "\n",
    "crude_prevalence = []\n",
    "interest = [\"Year\", \"LocationAbbr\", \"LocationDesc\", \"Indicator\", \"Data_Value\", \"Low_Confidence_Limit\", \"High_Confidence_Limit\", \"Sample_Size\"]\n",
    "\n",
    "for year in years:\n",
    "    print(\"Filename: {}\".format(\"data/crude_prevalence_{}.csv\".format(str(year).split('-')[0])))\n",
    "    try:\n",
    "        df = pd.read_csv(\"data/crude_prevalence_{}.csv\".format(str(year).split('-')[0]), sep=\"\\t\")[interest]\n",
    "    except KeyError:\n",
    "        df = pd.read_csv(\"data/crude_prevalence_{}.csv\".format(str(year).split('-')[0]), sep=\",\")[interest]\n",
    "    crude_prevalence.append(df)\n",
    "    \n",
    "df_crude_prevalence= pd.concat(crude_prevalence)\n",
    "df_crude_prevalence.head(5)"
   ]
  },
  {
   "cell_type": "code",
   "execution_count": 84,
   "metadata": {},
   "outputs": [
    {
     "data": {
      "image/png": "[encoded data removed]",
      "text/plain": [
       "<matplotlib.figure.Figure at 0x1eb491adc88>"
      ]
     },
     "metadata": {},
     "output_type": "display_data"
    }
   ],
   "source": [
    "AL_ts = pd.Series(df_crude_prevalence[df_crude_prevalence.LocationAbbr == \"AL\"][\"Data_Value\"].values,\n",
    "                  index=years)\n",
    "AL_ts = pd.DataFrame({'data_value': AL_ts,\n",
    "                      'Low Confidence Limit': df_crude_prevalence[df_crude_prevalence.LocationAbbr == \"AL\"][\"Low_Confidence_Limit\"].values,\n",
    "                      'High Confidence Limit': df_crude_prevalence[df_crude_prevalence.LocationAbbr == \"AL\"][\"High_Confidence_Limit\"].values})\n",
    "ax = AL_ts.plot(style=[':', ':', '-'], figsize=(7, 7))\n",
    "ax.lines[0].set_alpha(0.5)"
   ]
  },
  {
   "cell_type": "code",
   "execution_count": 86,
   "metadata": {},
   "outputs": [
    {
     "data": {
      "text/plain": [
       "array([[<matplotlib.axes._subplots.AxesSubplot object at 0x000001EB47BBE0F0>]], dtype=object)"
      ]
     },
     "execution_count": 86,
     "metadata": {},
     "output_type": "execute_result"
    },
    {
     "data": {
      "image/png": "[encoded data removed]",
      "text/plain": [
       "<matplotlib.figure.Figure at 0x1eb48d3a048>"
      ]
     },
     "metadata": {},
     "output_type": "display_data"
    }
   ],
   "source": [
    "df_crude_prevalence[df_crude_prevalence.LocationAbbr == \"AL\"].hist(column=[\"Sample_Size\"])"
   ]
  },
  {
   "cell_type": "code",
   "execution_count": 31,
   "metadata": {},
   "outputs": [
    {
     "data": {
      "image/png": "[encoded data removed]",
      "text/plain": [
       "<matplotlib.figure.Figure at 0x1eb48c3efd0>"
      ]
     },
     "metadata": {},
     "output_type": "display_data"
    }
   ],
   "source": [
    "_ = df[\"Data_Value\"].plot().set(xlabel=\"Crema\", ylabel=\"Fernando\", title=\"Titulo\")"
   ]
  },
  {
   "cell_type": "code",
   "execution_count": 3,
   "metadata": {},
   "outputs": [
    {
     "data": {
      "text/plain": [
       "['Diabetes',\n",
       " 'Nutrition, Physical Activity, and Weight Status',\n",
       " 'Tobacco',\n",
       " 'Arthritis',\n",
       " 'Reproductive Health',\n",
       " 'Oral Health',\n",
       " 'Asthma',\n",
       " 'Older Adults',\n",
       " 'Immunization',\n",
       " 'Chronic Obstructive Pulmonary Disease',\n",
       " 'Mental Health',\n",
       " 'Disability',\n",
       " 'Alcohol',\n",
       " 'Cardiovascular Disease',\n",
       " 'Overarching Conditions',\n",
       " 'Chronic Kidney Disease',\n",
       " 'Cancer']"
      ]
     },
     "execution_count": 3,
     "metadata": {},
     "output_type": "execute_result"
    }
   ],
   "source": [
    "unique_topics = list(set(df[\"Topic\"]))\n",
    "unique_topics"
   ]
  },
  {
   "cell_type": "code",
   "execution_count": 4,
   "metadata": {},
   "outputs": [],
   "source": [
    "df_diabetes = df[df.Topic==\"Diabetes\"]\n",
    "df_diabetes.to_csv(\"data/US_diabetes.csv\")"
   ]
  },
  {
   "cell_type": "code",
   "execution_count": 5,
   "metadata": {},
   "outputs": [
    {
     "data": {
      "text/plain": [
       "{'BRFSS', 'Birth Certificate, NVSS', 'NVSS', 'PRAMS', 'State Inpatient Data'}"
      ]
     },
     "execution_count": 5,
     "metadata": {},
     "output_type": "execute_result"
    }
   ],
   "source": [
    "set(df_diabetes.DataSource)"
   ]
  },
  {
   "cell_type": "markdown",
   "metadata": {},
   "source": [
    "### Type of questions with prevalence in name"
   ]
  },
  {
   "cell_type": "code",
   "execution_count": 6,
   "metadata": {},
   "outputs": [
    {
     "data": {
      "text/plain": [
       "{0: 'Adults with diagnosed diabetes aged >= 18 years who have taken a diabetes self-management course',\n",
       " 1: 'Amputation of a lower extremity attributable to diabetes',\n",
       " 2: 'Diabetes prevalence among women aged 18-44 years',\n",
       " 3: 'Dilated eye examination among adults aged >= 18 years with diagnosed diabetes',\n",
       " 4: 'Foot examination among adults aged >= 18 years with diagnosed diabetes',\n",
       " 5: 'Glycosylated hemoglobin measurement among adults aged >= 18 years with diagnosed diabetes',\n",
       " 6: 'Hospitalization with diabetes as a listed diagnosis',\n",
       " 7: 'Influenza vaccination among noninstitutionalized adults aged 18-64 years with diagnosed diabetes',\n",
       " 8: 'Influenza vaccination among noninstitutionalized adults aged >= 65 years with diagnosed diabetes',\n",
       " 9: 'Mortality due to diabetes reported as any listed cause of death',\n",
       " 10: 'Mortality with diabetic ketoacidosis reported as any listed cause of death',\n",
       " 11: 'Pneumococcal vaccination among noninstitutionalized adults aged 18-64 years with diagnosed diabetes',\n",
       " 12: 'Pneumococcal vaccination among noninstitutionalized adults aged >= 65 years with diagnosed diabetes',\n",
       " 13: 'Prevalence of depressive disorders among adults aged >= 18 years with diagnosed diabetes',\n",
       " 14: 'Prevalence of diagnosed diabetes among adults aged >= 18 years',\n",
       " 15: 'Prevalence of gestational diabetes',\n",
       " 16: 'Prevalence of high blood pressure among adults aged >= 18 years with diagnosed diabetes',\n",
       " 17: 'Prevalence of high cholesterol among adults aged >= 18 years with diagnosed diabetes',\n",
       " 18: 'Prevalence of pre-pregnancy diabetes',\n",
       " 19: 'Visits to dentist or dental clinic among adults aged >= 18 years with diagnosed diabetes'}"
      ]
     },
     "execution_count": 6,
     "metadata": {},
     "output_type": "execute_result"
    }
   ],
   "source": [
    "questions = dict(enumerate(sorted(list(set(df_diabetes.Question)))))\n",
    "questions"
   ]
  },
  {
   "cell_type": "markdown",
   "metadata": {},
   "source": [
    "## Google Trends Data\n",
    "\n",
    "### Selecting the Keywords using Text Mining\n",
    "\n",
    "According to (insert_reference) we can find the important keywords using text mining over resources that talk about diabetes. \n",
    "\n",
    "We implement a web scraping method that will work as follows:\n",
    "\n",
    "1. We will obtain **all** text content from the Wikipedia web page: [Diabetes Mellitus](https://en.wikipedia.org/wiki/Diabetes_mellitus).\n",
    "1. From the content of original page we will extract the n-grams using the package [NLTK](http://www.nltk.org/) 1-grams, 2-grams, 3-grams and 4-grams. \n",
    "1. From this n-grams we will select a group based on our research and extract the data using the [Pytrends API](https://github.com/GeneralMills/pytrends).\n",
    "\n",
    "In parallel, we will obtain all links inside the original page that are valid wikipedia links of the form: `https://en.wikipedia.org/wiki/{page}` merge all contents and repeat the steps 1, 2 and 3. Later on, as we will have the data from Pytrends we will decide based on the correlation of our results and the ground truth data.\n"
   ]
  },
  {
   "cell_type": "code",
   "execution_count": 104,
   "metadata": {},
   "outputs": [],
   "source": [
    "import requests\n",
    "import inspect\n",
    "from bs4 import BeautifulSoup"
   ]
  },
  {
   "cell_type": "code",
   "execution_count": 105,
   "metadata": {},
   "outputs": [],
   "source": [
    "def create_soup_wikipedia(link, language=\"en\"):\n",
    "    base_url = \"https://{}.wikipedia.org/wiki/\".format(language) \n",
    "\n",
    "    # One petition per url\n",
    "    r = requests.get(base_url + link)\n",
    "\n",
    "    # Creating the soup object from Beautiful Soup\n",
    "    soup = BeautifulSoup(r.content, 'html.parser')\n",
    "    \n",
    "    return(soup)\n",
    "\n",
    "def parse_wikipedia(wiki_url, get_links=True):\n",
    "    wiki_soup = create_soup_wikipedia(link=wiki_url)\n",
    "    links, content = [], []\n",
    "\n",
    "    undesired_content = ['File', \n",
    "                        'citation', \n",
    "                        'Book', 'book',  \n",
    "                        'Help', \n",
    "                        'Template', \n",
    "                        'Wikipedia:Citation_needed', 'wikidata', 'wikipedia' \n",
    "                        'Category:CS1_maint', \n",
    "                        'Digital_object_identifier',\n",
    "                        'PubMed', '#', 'Category', 'http']\n",
    "\n",
    "    for part in wiki_soup.find_all(\"div\", {'class': 'mw-parser-output'}):\n",
    "        if get_links:\n",
    "            for link in part.find_all('a'):\n",
    "                try:\n",
    "                    if all(list(map(lambda x: x not in link['href'], undesired_content))) and '/wiki/' in link['href']:\n",
    "                        links.append(link['href'][6:])\n",
    "                except KeyError:\n",
    "                    continue\n",
    "        for paragraph in part.find_all('p'):\n",
    "            content.append(paragraph.text)\n",
    "    if get_links:\n",
    "        return content, links\n",
    "    else:\n",
    "        return content"
   ]
  },
  {
   "cell_type": "code",
   "execution_count": 148,
   "metadata": {},
   "outputs": [],
   "source": [
    "def load_wikipedia_data(filename, itype):\n",
    "    if itype == \"links\":\n",
    "        links = []\n",
    "    elif itype == \"content\":\n",
    "        content = \"\"\n",
    "        \n",
    "    with open(filename, 'r') as f:\n",
    "        for line in f:\n",
    "            if itype == \"links\":\n",
    "                links.append(line.replace('\\n', ''))\n",
    "            elif itype == \"content\":\n",
    "                content += line\n",
    "                \n",
    "    return content if itype == \"content\" else links"
   ]
  },
  {
   "cell_type": "code",
   "execution_count": 153,
   "metadata": {},
   "outputs": [],
   "source": [
    "try:\n",
    "    diabetes_link = load_wikipedia_data(\"data/wikipedia/diabetes_links.dat\", itype=\"links\")\n",
    "    diabetes_content = load_wikipedia_data(\"data/wikipedia/diabetes_content.dat\", itype=\"content\")\n",
    "except FileNotFoundError:\n",
    "    print(\"[File Not Found] Downloading data for the first time\")\n",
    "    diabetes_content, diabetes_link = parse_wikipedia(wiki_url=\"Diabetes_mellitus\")"
   ]
  },
  {
   "cell_type": "markdown",
   "metadata": {},
   "source": [
    "### Cleaning data\n",
    "\n",
    "We now clean the data using the normal process:\n",
    "\n",
    "1. Transforming all upper characters to lower characters.\n",
    "1. Removing all stop words in english using the stopwords functionality of nltk.\n",
    "1. We don't do stemming as we want all words in complete manners.\n",
    "\n",
    "We give more importance to the words in the original article."
   ]
  },
  {
   "cell_type": "code",
   "execution_count": 107,
   "metadata": {},
   "outputs": [],
   "source": [
    "from nltk.corpus import stopwords\n",
    "from nltk.tokenize import wordpunct_tokenize\n",
    "import string"
   ]
  },
  {
   "cell_type": "code",
   "execution_count": 108,
   "metadata": {},
   "outputs": [],
   "source": [
    "def clean_content(content):\n",
    "    stop_words = set(stopwords.words('english'))\n",
    "    numbers = '0123456789-–'\n",
    "    list_of_words = []\n",
    "    \n",
    "    for chunk in content:\n",
    "        for word in wordpunct_tokenize(chunk):\n",
    "            _word = word.lower()\n",
    "            if _word not in stop_words:\n",
    "                if all(list(map(lambda c: c not in string.punctuation and c not in numbers, _word))):\n",
    "                    list_of_words.append(_word)\n",
    "\n",
    "    return \" \".join(list_of_words)"
   ]
  },
  {
   "cell_type": "markdown",
   "metadata": {},
   "source": [
    "### Cleaning the principal article\n",
    "\n",
    "We first, clean the principal article as we want to give more importance to the information inside it."
   ]
  },
  {
   "cell_type": "code",
   "execution_count": 109,
   "metadata": {},
   "outputs": [],
   "source": [
    "diabetes_content = clean_content(diabetes_content)"
   ]
  },
  {
   "cell_type": "markdown",
   "metadata": {},
   "source": [
    "### Cleaning of the rest of articles\n",
    "\n",
    "To clean the rest of articles, we concatenate the cleaning of every article separated as reduces the memory used."
   ]
  },
  {
   "cell_type": "code",
   "execution_count": 155,
   "metadata": {},
   "outputs": [],
   "source": [
    "try:\n",
    "    rest_articles_content = load_wikipedia_data(\"data/wikipedia/rest_content.dat\", itype=\"content\")\n",
    "except FileNotFoundError:\n",
    "    rest_of_content = []\n",
    "    all_links = set(diabetes_link)\n",
    "    n = len(all_links)\n",
    "    for idx, link in enumerate(all_links):\n",
    "        if idx % 20 == 0:\n",
    "            print(\"\\r Progress: {}%\".format(100*idx/n), end=\" \")\n",
    "        dirty_data = parse_wikipedia(wiki_url=link, get_links=False)\n",
    "        cleaned_data = clean_content(dirty_data)\n",
    "        rest_of_content.append(cleaned_data)\n",
    "        rest_articles_content = \" \".join(rest_of_content)"
   ]
  },
  {
   "cell_type": "markdown",
   "metadata": {},
   "source": [
    "### Saving File for future use"
   ]
  },
  {
   "cell_type": "code",
   "execution_count": 126,
   "metadata": {},
   "outputs": [],
   "source": [
    "def save_wikipedia_data(content, name, itype=\"content\"):\n",
    "    with open('data/wikipedia/{}.dat'.format(name), 'w') as f:\n",
    "        for c in content:\n",
    "            try:\n",
    "                f.write(c)\n",
    "                if itype == \"links\":\n",
    "                    f.write('\\n')\n",
    "            except:\n",
    "                continue"
   ]
  },
  {
   "cell_type": "code",
   "execution_count": 127,
   "metadata": {},
   "outputs": [],
   "source": [
    "save_wikipedia_data(diabetes_content, \"diabetes_content\")"
   ]
  },
  {
   "cell_type": "code",
   "execution_count": 128,
   "metadata": {},
   "outputs": [],
   "source": [
    "save_wikipedia_data(rest_articles_content, \"rest_content\")"
   ]
  },
  {
   "cell_type": "code",
   "execution_count": 130,
   "metadata": {},
   "outputs": [],
   "source": [
    "save_wikipedia_data(diabetes_link, \"diabetes_links\", itype=\"links\")"
   ]
  },
  {
   "cell_type": "markdown",
   "metadata": {},
   "source": [
    "## Ngrams analysis for principal article\n",
    "\n",
    "To select our keywords, we will do a n-grams analysis using n = 1, 2, 3, 4. An n-gram is a term with n words that repeats commonly among the content we input."
   ]
  },
  {
   "cell_type": "code",
   "execution_count": 156,
   "metadata": {},
   "outputs": [],
   "source": [
    "from nltk import ngrams\n",
    "from collections import Counter, defaultdict"
   ]
  },
  {
   "cell_type": "code",
   "execution_count": 157,
   "metadata": {},
   "outputs": [],
   "source": [
    "def get_n_gram(content, n):\n",
    "    n_grams = ngrams(content.split(), n)\n",
    "    n_grams = Counter(n_grams)\n",
    "    return n_grams\n",
    "\n",
    "def by_result(result_n_gram):\n",
    "    dict_n_gram = defaultdict(list)\n",
    "    for name, quantity in result_n_gram:\n",
    "        dict_n_gram[quantity].append(\" \".join(list(name)))\n",
    "    return dict_n_gram"
   ]
  },
  {
   "cell_type": "markdown",
   "metadata": {},
   "source": [
    "### 1-grams in principal article\n",
    "\n",
    "Let's find the principal terms in the article"
   ]
  },
  {
   "cell_type": "code",
   "execution_count": 158,
   "metadata": {},
   "outputs": [
    {
     "name": "stdout",
     "output_type": "stream",
     "text": [
      "136: diabetes\n",
      "60: insulin, type\n",
      "43: blood\n",
      "35: glucose\n",
      "33: disease\n",
      "31: may\n",
      "26: mellitus\n",
      "23: dm, sugar, people, risk\n",
      "22: cases\n",
      "20: high, levels, body\n",
      "19: increased\n",
      "17: also\n",
      "16: term\n",
      "15: known\n",
      "14: diabetic\n",
      "13: include, complications, damage, due, cells, weight\n",
      "12: loss\n",
      "11: diet, medications, urine\n",
      "10: symptoms, cause, several, associated\n",
      "9: used, however\n",
      "8: death, long, cardiovascular\n"
     ]
    }
   ],
   "source": [
    "for idx, values in by_result(get_n_gram(content=diabetes_content, n=1).most_common(40)).items():\n",
    "    print(\"{}: {}\".format(idx, \", \".join(values)))"
   ]
  },
  {
   "cell_type": "markdown",
   "metadata": {},
   "source": [
    "### 2-grams in principal article\n",
    "\n",
    "Let's find the 2-grams in the principal article"
   ]
  },
  {
   "cell_type": "code",
   "execution_count": 159,
   "metadata": {},
   "outputs": [
    {
     "name": "stdout",
     "output_type": "stream",
     "text": [
      "26: type diabetes\n",
      "23: diabetes mellitus\n",
      "19: type dm\n",
      "18: blood sugar\n",
      "11: high blood\n",
      "7: sugar levels, cardiovascular disease, blood pressure, people diabetes, blood glucose\n",
      "6: long term, weight loss, gestational diabetes, citation needed, glucose levels, increased risk, fasting glucose\n",
      "5: low blood, onset diabetes, beta cells, mg dl, mmol l\n",
      "4: term complications, diabetes due, million deaths, known diabetic, severe cases, may also, risk diabetes, insulin secretion, physical activity, l mg\n",
      "3: increased thirst, complications include, kidney disease, damage eyes, cells body, three main, healthy diet, normal body\n"
     ]
    }
   ],
   "source": [
    "for idx, values in by_result(get_n_gram(content=diabetes_content, n=2).most_common(40)).items():\n",
    "    print(\"{}: {}\".format(idx, \", \".join(values)))"
   ]
  },
  {
   "cell_type": "markdown",
   "metadata": {},
   "source": [
    "### 3-grams in principal article\n",
    "\n",
    "Let's find the 3-grams in the principal article."
   ]
  },
  {
   "cell_type": "code",
   "execution_count": 160,
   "metadata": {},
   "outputs": [
    {
     "name": "stdout",
     "output_type": "stream",
     "text": [
      "7: blood sugar levels\n",
      "6: high blood sugar\n",
      "5: low blood sugar\n",
      "4: long term complications, mmol l mg, l mg dl\n",
      "3: normal body weight, diabetes type diabetes, world health organization, risks cardiovascular disease, people type diabetes\n",
      "2: hyperosmolar hyperglycemic state, chronic kidney disease, three main types, control blood pressure, type dm may, weight loss surgery, loss surgery obesity, estimated million people, million people diabetes, people diabetes worldwide, type dm several, high blood glucose, damage blood vessels, type gestational diabetes, type diabetes mellitus, diabetes mellitus characterized, diabetes mellitus cases, insulin dependent diabetes, type diabetes type, body mass index, lack physical activity, associated increased risk, blood glucose levels, forms diabetes mellitus, levels blood glucose, mg dl mmol, dl mmol l, impaired fasting glucose, glucose mmol l\n"
     ]
    }
   ],
   "source": [
    "for idx, values in by_result(get_n_gram(content=diabetes_content, n=3).most_common(40)).items():\n",
    "    print(\"{}: {}\".format(idx, \", \".join(values)))"
   ]
  },
  {
   "cell_type": "markdown",
   "metadata": {},
   "source": [
    "### 4-gram in principal article\n",
    "\n",
    "Finally, we print the 4-gram in the principal article."
   ]
  },
  {
   "cell_type": "code",
   "execution_count": 161,
   "metadata": {},
   "outputs": [
    {
     "name": "stdout",
     "output_type": "stream",
     "text": [
      "4: mmol l mg dl\n",
      "2: high blood sugar levels, weight loss surgery obesity, million people diabetes worldwide, type diabetes type diabetes, mg dl mmol l, glucose mmol l mg, income communities per population, term type diabetes replaced, type diabetes replaced several, diabetes replaced several former, replaced several former terms, several former terms including\n",
      "1: diabetes mellitus dm commonly, mellitus dm commonly referred, dm commonly referred diabetes, commonly referred diabetes group, referred diabetes group metabolic, diabetes group metabolic disorders, group metabolic disorders high, metabolic disorders high blood, disorders high blood sugar, blood sugar levels prolonged, sugar levels prolonged period, levels prolonged period symptoms, prolonged period symptoms high, period symptoms high blood, symptoms high blood sugar, high blood sugar include, blood sugar include frequent, sugar include frequent urination, include frequent urination increased, frequent urination increased thirst, urination increased thirst increased, increased thirst increased hunger, thirst increased hunger left, increased hunger left untreated, hunger left untreated diabetes, left untreated diabetes cause, untreated diabetes cause many\n"
     ]
    }
   ],
   "source": [
    "for idx, values in by_result(get_n_gram(content=diabetes_content, n=4).most_common(40)).items():\n",
    "    print(\"{}: {}\".format(idx, \", \".join(values)))"
   ]
  },
  {
   "cell_type": "markdown",
   "metadata": {},
   "source": [
    "## N-gram analysis for rest of content\n",
    "\n",
    "We see that the number of characters in the rest of articles is extremly high (3 Million words) as a result, we plot the distribution of words to decide the k that we want to use.\n",
    "\n",
    "### 1-gram analysis for rest of content\n",
    "\n",
    "#### Plot of the distribution of words"
   ]
  },
  {
   "cell_type": "code",
   "execution_count": 162,
   "metadata": {},
   "outputs": [
    {
     "data": {
      "image/png": "[encoded data removed]",
      "text/plain": [
       "<matplotlib.figure.Figure at 0x1eb4af52ef0>"
      ]
     },
     "metadata": {},
     "output_type": "display_data"
    }
   ],
   "source": [
    "import matplotlib.pyplot as plt\n",
    "one_gram = get_n_gram(content=rest_articles_content, n=1)\n",
    "\n",
    "# the histogram of the data\n",
    "n, bins, patches = plt.hist(one_gram.values(), 50, density=False, facecolor='g', alpha=0.75)\n",
    "\n",
    "\n",
    "plt.xlabel('Number of 1-gram')\n",
    "plt.ylabel('Frequency')\n",
    "plt.title('Histogram of words distribution')\n",
    "plt.axis([0, 3000, 0, 3500])\n",
    "plt.grid(True)\n",
    "plt.show()"
   ]
  },
  {
   "cell_type": "markdown",
   "metadata": {},
   "source": [
    "We clearly see that the 1-gram distribution follows a power law. Most of the words appear few times and few of the words retain almost all the frequencies. We must select the words that have high appearence and low frequency in the histogram.\n"
   ]
  },
  {
   "cell_type": "code",
   "execution_count": 163,
   "metadata": {},
   "outputs": [
    {
     "name": "stdout",
     "output_type": "stream",
     "text": [
      "2913: may\n",
      "2539: blood\n",
      "2245: also\n",
      "2086: insulin\n",
      "2014: diabetes\n",
      "1857: glucose\n",
      "1813: disease\n",
      "1551: cells\n",
      "1512: levels\n",
      "1412: one\n",
      "1363: used\n",
      "1288: people\n",
      "1269: risk\n",
      "1223: health\n",
      "1200: type\n",
      "1152: high\n",
      "1055: treatment\n",
      "1001: body\n",
      "994: cause\n",
      "963: many\n",
      "952: first\n",
      "944: patients\n",
      "908: symptoms\n",
      "885: include\n",
      "873: hormone\n",
      "871: however, medical\n",
      "864: often\n",
      "835: use\n",
      "833: common\n",
      "829: two\n",
      "826: low\n",
      "824: cell\n",
      "817: due\n",
      "782: normal\n",
      "781: increased\n",
      "778: found\n",
      "775: sugar\n",
      "753: known\n",
      "739: associated\n",
      "737: thyroid\n",
      "728: cases\n",
      "715: syndrome\n",
      "673: needed\n",
      "661: pressure\n",
      "659: women\n",
      "639: well\n",
      "637: years\n",
      "618: including\n",
      "608: usually\n"
     ]
    }
   ],
   "source": [
    "for idx, values in by_result(get_n_gram(content=rest_articles_content, n=1).most_common(50)).items():\n",
    "    print(\"{}: {}\".format(idx, \", \".join(values)))"
   ]
  },
  {
   "cell_type": "markdown",
   "metadata": {},
   "source": [
    "\n",
    "### 2-gram analysis for rest of content"
   ]
  },
  {
   "cell_type": "code",
   "execution_count": 164,
   "metadata": {},
   "outputs": [
    {
     "name": "stdout",
     "output_type": "stream",
     "text": [
      "505: type diabetes\n",
      "482: blood glucose\n",
      "467: citation needed\n",
      "392: united states\n",
      "371: blood pressure\n",
      "335: blood sugar\n",
      "306: insulin resistance\n",
      "303: e g\n",
      "295: diabetes mellitus\n",
      "279: glucose levels\n",
      "245: may also\n",
      "234: cardiovascular disease\n",
      "225: long term\n",
      "223: mg dl\n",
      "219: high blood\n",
      "207: open access\n",
      "174: fatty acids\n",
      "172: beta cells\n",
      "164: mmol l\n",
      "161: heart disease\n",
      "151: risk factors\n",
      "149: world health\n",
      "139: also known, increased risk\n",
      "135: growth hormone\n",
      "128: thyroid hormone\n",
      "127: weight loss\n",
      "124: trans fats\n",
      "120: pituitary gland\n",
      "119: low blood, kidney disease\n",
      "114: sugar levels\n",
      "113: blood vessels, trans fat\n",
      "112: health organization\n",
      "107: health care\n",
      "106: nervous system\n",
      "102: glucose level\n",
      "97: l mg\n",
      "94: thyroid gland\n",
      "93: side effects\n",
      "91: caesarean section\n",
      "90: may include\n",
      "88: also used\n",
      "87: may cause\n",
      "85: people diabetes\n",
      "82: immune system, may occur\n",
      "81: high levels\n",
      "79: amino acids\n"
     ]
    }
   ],
   "source": [
    "for idx, values in by_result(get_n_gram(content=rest_articles_content, n=2).most_common(50)).items():\n",
    "    print(\"{}: {}\".format(idx, \", \".join(values)))"
   ]
  },
  {
   "cell_type": "markdown",
   "metadata": {},
   "source": [
    "### 3-gram analysis for the rest of data"
   ]
  },
  {
   "cell_type": "code",
   "execution_count": 165,
   "metadata": {},
   "outputs": [
    {
     "name": "stdout",
     "output_type": "stream",
     "text": [
      "159: blood glucose levels\n",
      "113: high blood pressure\n",
      "111: blood sugar levels\n",
      "98: world health organization\n",
      "97: l mg dl\n",
      "96: mmol l mg\n",
      "59: diabetes mellitus type\n",
      "58: blood glucose level\n",
      "54: chronic kidney disease\n",
      "53: american diabetes association\n",
      "47: type diabetes mellitus, central nervous system\n",
      "46: thyroid stimulating hormone, high blood sugar\n",
      "41: medical citation needed, multiple endocrine neoplasia\n",
      "40: risk cardiovascular disease\n",
      "38: low blood sugar, red blood cells\n",
      "37: food drug administration, coronary artery disease, people type diabetes\n",
      "36: open access journals\n",
      "35: body mass index, coronary heart disease\n",
      "32: congenital adrenal hyperplasia\n",
      "30: impaired fasting glucose, growth hormone deficiency\n",
      "29: impaired glucose tolerance\n",
      "28: stimulating hormone tsh, blood sugar level\n",
      "27: glucose tolerance test, mg dl mmol, dl mmol l\n",
      "26: follicle stimulating hormone, world health assembly, embryonic stem cells\n",
      "24: hormone replacement therapy\n",
      "22: low blood pressure, corticotropin releasing hormone, glomerular filtration rate, insulin like growth, like growth factor\n",
      "21: angiotensin ii receptor, endocrine neoplasia type, citric acid cycle\n",
      "20: low blood glucose, fasting blood glucose, drug administration fda, associated increased risk, one study found, heart attack stroke\n",
      "19: red blood cell, national institute health, waist hip ratio, centers disease control, disease control prevention, cochrane review found, patients type diabetes, risk type diabetes\n"
     ]
    }
   ],
   "source": [
    "for idx, values in by_result(get_n_gram(content=rest_articles_content, n=3).most_common(60)).items():\n",
    "    print(\"{}: {}\".format(idx, \", \".join(values)))"
   ]
  },
  {
   "cell_type": "markdown",
   "metadata": {},
   "source": [
    "### 4-gram analysis for the rest of data\n",
    "\n",
    "Finally, let's see the 4-gram results."
   ]
  },
  {
   "cell_type": "code",
   "execution_count": 166,
   "metadata": {},
   "outputs": [
    {
     "name": "stdout",
     "output_type": "stream",
     "text": [
      "96: mmol l mg dl\n",
      "28: thyroid stimulating hormone tsh\n",
      "27: mg dl mmol l\n",
      "22: insulin like growth factor\n",
      "21: multiple endocrine neoplasia type\n",
      "19: food drug administration fda\n",
      "18: centers disease control prevention\n",
      "14: level mmol l mg, follicle stimulating hormone fsh, ° c ° f, angiotensin ii receptor antagonists, people high blood pressure, maturity onset diabetes young\n",
      "13: u food drug administration, autoimmune polyendocrine syndrome type, preventive services task force\n",
      "12: national institute health clinical, institute health clinical excellence, high blood sugar levels, less mmol l mg, short chain fatty acids\n",
      "11: insulin resistance type diabetes, body mass index bmi, like growth factor igf\n",
      "10: latent autoimmune diabetes adults, end stage kidney disease, insulin producing beta cells, range mmol l mg, l mg dl considered, onset diabetes young mody, department health human services\n",
      "9: low middle income countries, corticotropin releasing hormone crh, magnetic resonance imaging mri, united states preventive services, states preventive services task, risk coronary artery disease, end stage renal disease, risk developing type diabetes, labor force participation rate\n",
      "8: congenital adrenal hyperplasia cah, oral glucose tolerance test, type diabetes type diabetes, international statistical classification diseases, edar edar hypohidrotic ectodermal, edar hypohidrotic ectodermal dysplasia, national health nutrition examination, health nutrition examination survey, chronic obstructive pulmonary disease, calories kj per person\n"
     ]
    }
   ],
   "source": [
    "for idx, values in by_result(get_n_gram(content=rest_articles_content, n=4).most_common(50)).items():\n",
    "    print(\"{}: {}\".format(idx, \", \".join(values)))"
   ]
  },
  {
   "cell_type": "markdown",
   "metadata": {},
   "source": [
    "### Downloading the data using the pytrend API\n",
    "\n",
    "Command to install the necessary package: `pip install pytrends` "
   ]
  },
  {
   "cell_type": "code",
   "execution_count": 95,
   "metadata": {},
   "outputs": [],
   "source": [
    "from pytrends.request import TrendReq"
   ]
  },
  {
   "cell_type": "code",
   "execution_count": 176,
   "metadata": {},
   "outputs": [],
   "source": [
    "key_list = {\"1\": [\"diabetes\", \"sugar\", \"glucose\", \"insulin\", \"diagnosis\"], \n",
    "            \"2\": [\"blood pressure\", \"fruit\", \"cholesterol\", \"diet\", \"type 1\"],\n",
    "            \"3\": [\"type 2\", \"symptoms\", \"diabetes mellitus\", \"diagnosis\", \"complications\"],\n",
    "            \"4\": [\"osteoporosis\", \"hypertension\",\"obesity\", \"fat\", \"association\"],\n",
    "            \"2-grams\": [\"blood glucose\", \"heart disease\", \"cardiovascular disease\", \"kidney disease\", \"weigth loss\"],\n",
    "            \"3-grams\": [\"blood glucose level\", \"high blood pressure\", \"high blood sugar\", \"glucose tolerance test\", \"like growth factor\"],\n",
    "            \"3-grams-2\": [\"central nervous system\", \"thyroid stimulating hormone\", \"coronary artery disease\", \"end stage renal disease\", \"risk developing diabetes\"]\n",
    "           }"
   ]
  },
  {
   "cell_type": "code",
   "execution_count": null,
   "metadata": {},
   "outputs": [],
   "source": [
    "d_s = '-01-01 '\n",
    "d_e = '-12-31'\n",
    "pytrend = TrendReq()\n",
    "for i in range(2004,2017):\n",
    "    period = str(i) + d_s + str(i) + d_e\n",
    "    for key in key_list:\n",
    "        pytrend.build_payload(kw_list=key_list[key],\n",
    "                              geo=\"US\",\n",
    "                              cat = 630,\n",
    "                              timeframe= period)\n",
    "        if key == \"1\":\n",
    "            interest_by_region_df = pytrend.interest_by_region()\n",
    "        else:\n",
    "            interest_by_region_df = pd.concat([interest_by_region_df, pytrend.interest_by_region()], axis = 1)\n",
    "    file = str(i) + \".csv\"\n",
    "    interest_by_region_df.to_csv(\"data/pytrends/\"+file, sep = ',')"
   ]
  },
  {
   "cell_type": "markdown",
   "metadata": {},
   "source": [
    "# Poverty Data"
   ]
  },
  {
   "cell_type": "code",
   "execution_count": 32,
   "metadata": {},
   "outputs": [],
   "source": [
    "df_poverty = pd.read_excel(\"data_poverty/dat_p.xls\")"
   ]
  },
  {
   "cell_type": "code",
   "execution_count": 33,
   "metadata": {},
   "outputs": [
    {
     "data": {
      "text/html": [
       "<div>\n",
       "<style>\n",
       "    .dataframe thead tr:only-child th {\n",
       "        text-align: right;\n",
       "    }\n",
       "\n",
       "    .dataframe thead th {\n",
       "        text-align: left;\n",
       "    }\n",
       "\n",
       "    .dataframe tbody tr th {\n",
       "        vertical-align: top;\n",
       "    }\n",
       "</style>\n",
       "<table border=\"1\" class=\"dataframe\">\n",
       "  <thead>\n",
       "    <tr style=\"text-align: right;\">\n",
       "      <th></th>\n",
       "      <th>STATE</th>\n",
       "      <th>Total.15</th>\n",
       "      <th>Number.15</th>\n",
       "      <th>Standard\n",
       "error.15</th>\n",
       "      <th>Percent.15</th>\n",
       "      <th>Standard\n",
       "error.15.1</th>\n",
       "      <th>Total.14</th>\n",
       "      <th>Number.14</th>\n",
       "      <th>Standard\n",
       "error.14</th>\n",
       "      <th>Percent.14</th>\n",
       "      <th>...</th>\n",
       "      <th>Total.10</th>\n",
       "      <th>Number.10</th>\n",
       "      <th>Standard\n",
       "error.10</th>\n",
       "      <th>Percent.10</th>\n",
       "      <th>Standard\n",
       "error.10.1</th>\n",
       "      <th>Total.9</th>\n",
       "      <th>Number.9</th>\n",
       "      <th>Standard\n",
       "error.9</th>\n",
       "      <th>Percent.9</th>\n",
       "      <th>Standard\n",
       "error.9.1</th>\n",
       "    </tr>\n",
       "  </thead>\n",
       "  <tbody>\n",
       "    <tr>\n",
       "      <th>0</th>\n",
       "      <td>Alabama</td>\n",
       "      <td>4820</td>\n",
       "      <td>784</td>\n",
       "      <td>60</td>\n",
       "      <td>16.3</td>\n",
       "      <td>1.2</td>\n",
       "      <td>4765</td>\n",
       "      <td>848</td>\n",
       "      <td>53</td>\n",
       "      <td>17.8</td>\n",
       "      <td>...</td>\n",
       "      <td>4717</td>\n",
       "      <td>812</td>\n",
       "      <td>83</td>\n",
       "      <td>17.2</td>\n",
       "      <td>1.8</td>\n",
       "      <td>4655</td>\n",
       "      <td>770</td>\n",
       "      <td>60</td>\n",
       "      <td>16.6</td>\n",
       "      <td>1.3</td>\n",
       "    </tr>\n",
       "    <tr>\n",
       "      <th>1</th>\n",
       "      <td>Alaska</td>\n",
       "      <td>703</td>\n",
       "      <td>65</td>\n",
       "      <td>6</td>\n",
       "      <td>9.2</td>\n",
       "      <td>0.9</td>\n",
       "      <td>694</td>\n",
       "      <td>82</td>\n",
       "      <td>8</td>\n",
       "      <td>11.9</td>\n",
       "      <td>...</td>\n",
       "      <td>695</td>\n",
       "      <td>87</td>\n",
       "      <td>10</td>\n",
       "      <td>12.5</td>\n",
       "      <td>1.5</td>\n",
       "      <td>688</td>\n",
       "      <td>81</td>\n",
       "      <td>8</td>\n",
       "      <td>11.7</td>\n",
       "      <td>1.2</td>\n",
       "    </tr>\n",
       "    <tr>\n",
       "      <th>2</th>\n",
       "      <td>Arizona</td>\n",
       "      <td>6728</td>\n",
       "      <td>1156</td>\n",
       "      <td>84</td>\n",
       "      <td>17.2</td>\n",
       "      <td>1.3</td>\n",
       "      <td>6657</td>\n",
       "      <td>1409</td>\n",
       "      <td>76</td>\n",
       "      <td>21.2</td>\n",
       "      <td>...</td>\n",
       "      <td>6426</td>\n",
       "      <td>1208</td>\n",
       "      <td>108</td>\n",
       "      <td>18.8</td>\n",
       "      <td>1.7</td>\n",
       "      <td>6508</td>\n",
       "      <td>1381</td>\n",
       "      <td>84</td>\n",
       "      <td>21.2</td>\n",
       "      <td>1.3</td>\n",
       "    </tr>\n",
       "    <tr>\n",
       "      <th>3</th>\n",
       "      <td>Arkansas</td>\n",
       "      <td>2951</td>\n",
       "      <td>475</td>\n",
       "      <td>27</td>\n",
       "      <td>16.1</td>\n",
       "      <td>0.9</td>\n",
       "      <td>2891</td>\n",
       "      <td>532</td>\n",
       "      <td>44</td>\n",
       "      <td>18.4</td>\n",
       "      <td>...</td>\n",
       "      <td>2879</td>\n",
       "      <td>440</td>\n",
       "      <td>45</td>\n",
       "      <td>15.3</td>\n",
       "      <td>1.6</td>\n",
       "      <td>2846</td>\n",
       "      <td>538</td>\n",
       "      <td>40</td>\n",
       "      <td>18.9</td>\n",
       "      <td>1.4</td>\n",
       "    </tr>\n",
       "    <tr>\n",
       "      <th>4</th>\n",
       "      <td>California</td>\n",
       "      <td>39081</td>\n",
       "      <td>5441</td>\n",
       "      <td>211</td>\n",
       "      <td>13.9</td>\n",
       "      <td>0.5</td>\n",
       "      <td>38666</td>\n",
       "      <td>6112</td>\n",
       "      <td>218</td>\n",
       "      <td>15.8</td>\n",
       "      <td>...</td>\n",
       "      <td>37240</td>\n",
       "      <td>6073</td>\n",
       "      <td>212</td>\n",
       "      <td>16.3</td>\n",
       "      <td>0.6</td>\n",
       "      <td>36742</td>\n",
       "      <td>5638</td>\n",
       "      <td>177</td>\n",
       "      <td>15.3</td>\n",
       "      <td>0.5</td>\n",
       "    </tr>\n",
       "  </tbody>\n",
       "</table>\n",
       "<p>5 rows × 36 columns</p>\n",
       "</div>"
      ],
      "text/plain": [
       "        STATE  Total.15  Number.15  Standard\\nerror.15  Percent.15  \\\n",
       "0     Alabama      4820        784                  60        16.3   \n",
       "1      Alaska       703         65                   6         9.2   \n",
       "2     Arizona      6728       1156                  84        17.2   \n",
       "3    Arkansas      2951        475                  27        16.1   \n",
       "4  California     39081       5441                 211        13.9   \n",
       "\n",
       "   Standard\\nerror.15.1  Total.14  Number.14  Standard\\nerror.14  Percent.14  \\\n",
       "0                   1.2      4765        848                  53        17.8   \n",
       "1                   0.9       694         82                   8        11.9   \n",
       "2                   1.3      6657       1409                  76        21.2   \n",
       "3                   0.9      2891        532                  44        18.4   \n",
       "4                   0.5     38666       6112                 218        15.8   \n",
       "\n",
       "          ...           Total.10  Number.10  Standard\\nerror.10  Percent.10  \\\n",
       "0         ...               4717        812                  83        17.2   \n",
       "1         ...                695         87                  10        12.5   \n",
       "2         ...               6426       1208                 108        18.8   \n",
       "3         ...               2879        440                  45        15.3   \n",
       "4         ...              37240       6073                 212        16.3   \n",
       "\n",
       "   Standard\\nerror.10.1  Total.9  Number.9  Standard\\nerror.9  Percent.9  \\\n",
       "0                   1.8     4655       770                 60       16.6   \n",
       "1                   1.5      688        81                  8       11.7   \n",
       "2                   1.7     6508      1381                 84       21.2   \n",
       "3                   1.6     2846       538                 40       18.9   \n",
       "4                   0.6    36742      5638                177       15.3   \n",
       "\n",
       "   Standard\\nerror.9.1  \n",
       "0                  1.3  \n",
       "1                  1.2  \n",
       "2                  1.3  \n",
       "3                  1.4  \n",
       "4                  0.5  \n",
       "\n",
       "[5 rows x 36 columns]"
      ]
     },
     "execution_count": 33,
     "metadata": {},
     "output_type": "execute_result"
    }
   ],
   "source": [
    "df_poverty.head(5)"
   ]
  },
  {
   "cell_type": "code",
   "execution_count": null,
   "metadata": {},
   "outputs": [],
   "source": []
  },
  {
   "cell_type": "code",
   "execution_count": null,
   "metadata": {},
   "outputs": [],
   "source": []
  },
  {
   "cell_type": "code",
   "execution_count": null,
   "metadata": {},
   "outputs": [],
   "source": []
  },
  {
   "cell_type": "code",
   "execution_count": 40,
   "metadata": {},
   "outputs": [],
   "source": [
    "locations = set(df_diabetes[df_diabetes.LocationAbbr != \"US\"].LocationAbbr)"
   ]
  },
  {
   "cell_type": "code",
   "execution_count": 41,
   "metadata": {},
   "outputs": [
    {
     "data": {
      "text/plain": [
       "{'AK',\n",
       " 'AL',\n",
       " 'AR',\n",
       " 'AZ',\n",
       " 'CA',\n",
       " 'CO',\n",
       " 'CT',\n",
       " 'DC',\n",
       " 'DE',\n",
       " 'FL',\n",
       " 'GA',\n",
       " 'GU',\n",
       " 'HI',\n",
       " 'IA',\n",
       " 'ID',\n",
       " 'IL',\n",
       " 'IN',\n",
       " 'KS',\n",
       " 'KY',\n",
       " 'LA',\n",
       " 'MA',\n",
       " 'MD',\n",
       " 'ME',\n",
       " 'MI',\n",
       " 'MN',\n",
       " 'MO',\n",
       " 'MS',\n",
       " 'MT',\n",
       " 'NC',\n",
       " 'ND',\n",
       " 'NE',\n",
       " 'NH',\n",
       " 'NJ',\n",
       " 'NM',\n",
       " 'NV',\n",
       " 'NY',\n",
       " 'OH',\n",
       " 'OK',\n",
       " 'OR',\n",
       " 'PA',\n",
       " 'PR',\n",
       " 'RI',\n",
       " 'SC',\n",
       " 'SD',\n",
       " 'TN',\n",
       " 'TX',\n",
       " 'UT',\n",
       " 'VA',\n",
       " 'VI',\n",
       " 'VT',\n",
       " 'WA',\n",
       " 'WI',\n",
       " 'WV',\n",
       " 'WY'}"
      ]
     },
     "execution_count": 41,
     "metadata": {},
     "output_type": "execute_result"
    }
   ],
   "source": [
    "locations"
   ]
  },
  {
   "cell_type": "code",
   "execution_count": null,
   "metadata": {},
   "outputs": [],
   "source": []
  }
 ],
 "metadata": {
  "kernelspec": {
   "display_name": "Python 3",
   "language": "python",
   "name": "python3"
  },
  "language_info": {
   "codemirror_mode": {
    "name": "ipython",
    "version": 3
   },
   "file_extension": ".py",
   "mimetype": "text/x-python",
   "name": "python",
   "nbconvert_exporter": "python",
   "pygments_lexer": "ipython3",
   "version": "3.6.3"
  }
 },
 "nbformat": 4,
 "nbformat_minor": 2
}
